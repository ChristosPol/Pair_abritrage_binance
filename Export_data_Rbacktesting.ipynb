{
 "cells": [
  {
   "cell_type": "code",
   "execution_count": 5,
   "id": "0f1cd8b8",
   "metadata": {},
   "outputs": [
    {
     "name": "stdout",
     "output_type": "stream",
     "text": [
      "       pairs\n",
      "0    BTCUSDT\n",
      "1    SOLUSDT\n",
      "2    XRPUSDT\n",
      "6    ADAUSDT\n",
      "7   AVAXUSDT\n",
      "11  DOGEUSDT\n",
      "13  NEARUSDT\n",
      "14   DOTUSDT\n",
      "18  GALAUSDT\n",
      "19  SANDUSDT\n",
      "21   FTMUSDT\n",
      "22   LTCUSDT\n",
      "24  MANAUSDT\n",
      "25  ALGOUSDT\n"
     ]
    }
   ],
   "source": [
    "from binance import Client\n",
    "import pandas as pd\n",
    "import sys\n",
    "import datetime\n",
    "import numpy as np\n",
    "from get_api_keys import *\n",
    "import re\n",
    "import time\n",
    "# # # # # # # # # # # # \n",
    "# # Fix duplicated entries\n",
    "# # # # # # # # # # # # \n",
    "backperiod = \"200\"\n",
    "df=pd.read_csv(\"stationarity_test.csv\")\n",
    "path=\"/Users/christos.polysopoulos/Repositories/Trading_Pairs/Data/\"\n",
    "coins=[df['pair1'], df['pair2']]\n",
    "coins=pd.concat(coins)\n",
    "coins=coins.drop_duplicates()\n",
    "coins=pd.DataFrame(coins)\n",
    "coins.columns=['pairs']\n",
    "print(coins)"
   ]
  },
  {
   "cell_type": "code",
   "execution_count": 6,
   "id": "5a849a4a",
   "metadata": {},
   "outputs": [
    {
     "name": "stdout",
     "output_type": "stream",
     "text": [
      "Downloading data for BTCUSDT for the last 200 days\n",
      "Downloading data for SOLUSDT for the last 200 days\n",
      "Downloading data for XRPUSDT for the last 200 days\n",
      "Downloading data for ADAUSDT for the last 200 days\n",
      "Downloading data for AVAXUSDT for the last 200 days\n",
      "Downloading data for DOGEUSDT for the last 200 days\n",
      "Downloading data for NEARUSDT for the last 200 days\n",
      "Downloading data for DOTUSDT for the last 200 days\n",
      "Downloading data for GALAUSDT for the last 200 days\n",
      "Downloading data for SANDUSDT for the last 200 days\n",
      "Downloading data for FTMUSDT for the last 200 days\n",
      "Downloading data for LTCUSDT for the last 200 days\n",
      "Downloading data for MANAUSDT for the last 200 days\n",
      "Downloading data for ALGOUSDT for the last 200 days\n",
      "Export complete\n"
     ]
    }
   ],
   "source": [
    "# Binance API Client constructor\n",
    "client = Client(api_key, api_secret)\n",
    "info = client.get_ticker()\n",
    "\n",
    "for x in coins['pairs']:\n",
    "    klines = pd.DataFrame(client.get_historical_klines(x,\n",
    "                                                       Client.KLINE_INTERVAL_1HOUR,\n",
    "                                                       backperiod+\" days ago ECT\"))\n",
    "    klines.columns = [\"open_time\", \"Open\", \"High\",\n",
    "                     \"Low\", \"Close\", \"Volume\",\n",
    "                     \"close_time\", \"Quote_asset_volume\",\n",
    "                     \"N_trades\", \"Taker_buy_base_asset_volume\",\n",
    "                     \"taker_buy_quote_asset_volume\", \"ignore\"]\n",
    "    klines_exp = klines[[\"open_time\", \"close_time\", \"Open\", \"Close\", \"High\", \"Low\", \"Volume\"]]\n",
    "    klines_exp.to_csv(path+x+backperiod+\"_\"+\"klines.csv\", sep=\",\", index=False)\n",
    "    print(\"Downloading data for \" + x + \" for the last \" +backperiod+ \" days\")\n",
    "\n",
    "    time.sleep(1)\n",
    "\n",
    "print(\"Export complete\")\n"
   ]
  },
  {
   "cell_type": "code",
   "execution_count": null,
   "id": "cebdbb0a",
   "metadata": {},
   "outputs": [],
   "source": []
  }
 ],
 "metadata": {
  "kernelspec": {
   "display_name": "Python 3 (ipykernel)",
   "language": "python",
   "name": "python3"
  },
  "language_info": {
   "codemirror_mode": {
    "name": "ipython",
    "version": 3
   },
   "file_extension": ".py",
   "mimetype": "text/x-python",
   "name": "python",
   "nbconvert_exporter": "python",
   "pygments_lexer": "ipython3",
   "version": "3.9.7"
  }
 },
 "nbformat": 4,
 "nbformat_minor": 5
}
